{
  "nbformat": 4,
  "nbformat_minor": 0,
  "metadata": {
    "colab": {
      "name": "SRC_python_practice.ipynb",
      "provenance": []
    },
    "kernelspec": {
      "name": "python3",
      "display_name": "Python 3"
    },
    "language_info": {
      "name": "python"
    }
  },
  "cells": [
    {
      "cell_type": "code",
      "metadata": {
        "colab": {
          "base_uri": "https://localhost:8080/"
        },
        "id": "54SHlzoQQgCI",
        "outputId": "5a4524a7-e27a-4587-fcdb-6e07dc779e2f"
      },
      "source": [
        "# que1\n",
        "lists = ['friends', 'paatal lok', 'Vampire diaries', 'money heist']\n",
        "for list in lists:\n",
        "  print(list)\n"
      ],
      "execution_count": null,
      "outputs": [
        {
          "output_type": "stream",
          "text": [
            "friends\n",
            "paatal lok\n",
            "Vampire diaries\n",
            "money heist\n"
          ],
          "name": "stdout"
        }
      ]
    },
    {
      "cell_type": "code",
      "metadata": {
        "colab": {
          "base_uri": "https://localhost:8080/"
        },
        "id": "V8_zPTyCXFh5",
        "outputId": "6b886251-bced-4602-86f4-da1ada61bad6"
      },
      "source": [
        "# que2\n",
        "for shows in range(0,2):\n",
        "  shows = input('')\n",
        "  lists.append(shows)\n",
        "\n",
        "print(lists)\n",
        "print(len(lists))"
      ],
      "execution_count": null,
      "outputs": [
        {
          "output_type": "stream",
          "text": [
            "fdsf\n",
            "rwe\n",
            "['friends', 'paatal lok', 'Vampire diaries', 'money heist', 'fdsf', 'rwe']\n",
            "6\n"
          ],
          "name": "stdout"
        }
      ]
    },
    {
      "cell_type": "code",
      "metadata": {
        "colab": {
          "base_uri": "https://localhost:8080/"
        },
        "id": "jRTYdrX0YVrz",
        "outputId": "a5ea2863-ba97-4753-ef74-678840e737bf"
      },
      "source": [
        "# que3\n",
        "slice = lists[1:len(lists):2 ]\n",
        "print(slice)"
      ],
      "execution_count": null,
      "outputs": [
        {
          "output_type": "stream",
          "text": [
            "['paatal lok', 'money heist', 'rwe']\n"
          ],
          "name": "stdout"
        }
      ]
    },
    {
      "cell_type": "code",
      "metadata": {
        "colab": {
          "base_uri": "https://localhost:8080/"
        },
        "id": "zwM1Yx5haZ_P",
        "outputId": "1381e7ec-ad24-4db4-adbf-3bf0c48d76d0"
      },
      "source": [
        "# que4\n",
        "sum = 0\n",
        "i=0\n",
        "int_list = [9,2,3,4,5]\n",
        "while i<5:\n",
        "  sum = sum + int_list[i]\n",
        "  i=i+1\n",
        "\n",
        "print(sum)"
      ],
      "execution_count": null,
      "outputs": [
        {
          "output_type": "stream",
          "text": [
            "23\n"
          ],
          "name": "stdout"
        }
      ]
    },
    {
      "cell_type": "code",
      "metadata": {
        "colab": {
          "base_uri": "https://localhost:8080/"
        },
        "id": "U4KTuxKGbc97",
        "outputId": "d82ec63e-6639-4c82-965f-559465cccc48"
      },
      "source": [
        "# que5\n",
        "n = int(input())\n",
        "for i in range(1,n+1):\n",
        "  for j in range(1,n+1):\n",
        "    if(j<=i):\n",
        "      print(j, end = \"\")\n",
        "  print()    "
      ],
      "execution_count": null,
      "outputs": [
        {
          "output_type": "stream",
          "text": [
            "5\n",
            "1\n",
            "12\n",
            "123\n",
            "1234\n",
            "12345\n"
          ],
          "name": "stdout"
        }
      ]
    }
  ]
}